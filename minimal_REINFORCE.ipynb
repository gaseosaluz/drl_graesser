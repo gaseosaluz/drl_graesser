{
 "cells": [
  {
   "cell_type": "markdown",
   "metadata": {},
   "source": [
    "# Minimal REINFORCE Implementation"
   ]
  },
  {
   "cell_type": "markdown",
   "metadata": {},
   "source": [
    "Minimal REINFORCE implementation of Algorithm 2.1 from Chapter 2 of book. This implementation does not use the **LAB** environment that will be used later in the book."
   ]
  },
  {
   "cell_type": "markdown",
   "metadata": {},
   "source": [
    "## Dependencies"
   ]
  },
  {
   "cell_type": "code",
   "execution_count": null,
   "metadata": {},
   "outputs": [],
   "source": [
    "from torch.distributions import Categorical\n",
    "\n",
    "import numpy as np\n",
    "import torch\n",
    "import torch.nn as nn\n",
    "import torch.optim as optim\n",
    "\n",
    "import gym"
   ]
  },
  {
   "cell_type": "code",
   "execution_count": null,
   "metadata": {},
   "outputs": [],
   "source": [
    "gamma = 0.99"
   ]
  },
  {
   "cell_type": "code",
   "execution_count": null,
   "metadata": {},
   "outputs": [],
   "source": [
    "class Pi(nn.Module):\n",
    "    def __init__(self, in_dim, out_dim):\n",
    "        super(Pi, self).__init__()\n",
    "        layers = [\n",
    "            nn.Linear(in_dim, 64),\n",
    "            nn.ReLU(),\n",
    "            nn.Linear(64, out_dim)\n",
    "        ]\n",
    "        self.model = nn.Sequential(*layers)\n",
    "        self.onpolicy_reset()\n",
    "        self.train()  # Set training mode\n",
    "        \n",
    "    def onpolicy_reset(self):\n",
    "        self.log_probs = []\n",
    "        self.rewards = []\n",
    "        \n",
    "    def forward(self, x):\n",
    "        pdparam = self.model(x)\n",
    "        return pdparam\n",
    "    \n",
    "    def act(self, state):\n",
    "        x = torch.from_numpy(state.astype(np.float32)) # to tensor\n",
    "        pdparam = self.forward(x) # forward pass\n",
    "        pd = Categorical(logits=pdparam) # probability distribution\n",
    "        action = pd.sample() # pi(a|s) in action via pd\n",
    "        log_prob = pd.log_prob(action) # log_prb of pi(a|s)\n",
    "        self.log_probs.append(log_prob) # store for training\n",
    "        return action.item()"
   ]
  },
  {
   "cell_type": "code",
   "execution_count": null,
   "metadata": {},
   "outputs": [],
   "source": [
    "def train(pi, optimizer):\n",
    "    # Inner gradient ascent look of REINFORCE algorithm\n",
    "    T = len(pi.rewards)\n",
    "    rets = np.empty(T, dtype=np.float32) # The return\n",
    "    future_ret = 0.0\n",
    "    \n",
    "    # Compute the returns efficiently\n",
    "    for t in reversed(range(T)):\n",
    "        future_ret = pi.rewards[t] + gamma * future_ret\n",
    "        rets[t] = future_ret\n",
    "    \n",
    "    rets = torch.tensor(rets)\n",
    "    log_probs = torch.stack(pi.log_probs)\n",
    "    loss = - log_probs * rets # Gradient term. Negative for maximizing\n",
    "    loss = torch.sum(loss)\n",
    "    optimizer.zero_grad()\n",
    "    loss.backward() # backpropagate - compute gradient\n",
    "    optimizer.step() # gradient ascent, update the weights\n",
    "    return loss"
   ]
  },
  {
   "cell_type": "code",
   "execution_count": null,
   "metadata": {},
   "outputs": [],
   "source": [
    "def main():\n",
    "    env = gym.make('CartPole-v0')\n",
    "    in_dim = env.observation_space.shape[0] #4 \n",
    "    out_dim = env.action_space.n # 2\n",
    "    pi = Pi(in_dim, out_dim) # policy pi_theta for REINFORCE\n",
    "    optimizer = optim.Adam(pi.parameters(), lr=0.01)\n",
    "    for epi in range(300): \n",
    "        state = env.reset()\n",
    "        for t in range (200): # cartpole max step is 200\n",
    "            action = pi.act(state)\n",
    "            state, reward, done, _ = env.step(action)\n",
    "            pi.rewards.append(reward)\n",
    "            env.render()\n",
    "            if done:\n",
    "                break\n",
    "            \n",
    "        loss = train(pi, optimizer) # train per episode\n",
    "        total_reward = sum(pi.rewards)\n",
    "        solved = total_reward > 195.0\n",
    "        pi.onpolicy_reset() #on policy. Clear memory after training\n",
    "        print(f'Episode (epi), loss: (loss), total_reward: (total_reward), solved: (solved)')\n",
    "               \n",
    "if __name__ == 'main':\n",
    "    main()        "
   ]
  },
  {
   "cell_type": "code",
   "execution_count": null,
   "metadata": {},
   "outputs": [],
   "source": [
    "main()"
   ]
  },
  {
   "cell_type": "code",
   "execution_count": null,
   "metadata": {},
   "outputs": [],
   "source": []
  },
  {
   "cell_type": "code",
   "execution_count": null,
   "metadata": {},
   "outputs": [],
   "source": []
  }
 ],
 "metadata": {
  "kernelspec": {
   "display_name": "Python 3",
   "language": "python",
   "name": "python3"
  },
  "language_info": {
   "codemirror_mode": {
    "name": "ipython",
    "version": 3
   },
   "file_extension": ".py",
   "mimetype": "text/x-python",
   "name": "python",
   "nbconvert_exporter": "python",
   "pygments_lexer": "ipython3",
   "version": "3.7.3"
  }
 },
 "nbformat": 4,
 "nbformat_minor": 4
}
